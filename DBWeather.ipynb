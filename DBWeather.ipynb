{
 "cells": [
  {
   "cell_type": "raw",
   "id": "c766a510",
   "metadata": {
    "slideshow": {
     "slide_type": "skip"
    }
   },
   "source": [
    "Etwas styling ..."
   ]
  },
  {
   "cell_type": "code",
   "execution_count": null,
   "id": "46ac70d1",
   "metadata": {
    "slideshow": {
     "slide_type": "skip"
    }
   },
   "outputs": [],
   "source": [
    "%%html\n",
    "<style>\n",
    "h1 { color: rgb(226, 0, 26); }\n",
    "h2 { color: rgb(0, 80, 120); }\n",
    "</style>"
   ]
  },
  {
   "cell_type": "markdown",
   "id": "a4e20046",
   "metadata": {
    "slideshow": {
     "slide_type": "slide"
    }
   },
   "source": [
    "# BigData - DBWeather\n",
    "---\n",
    "Programmentwurf - Wintersemester 2022 - DHBW Mannheim\\\n",
    "Daniel Czeschner, Kai Grübener, Frederik Wolter"
   ]
  },
  {
   "cell_type": "markdown",
   "id": "2a70516e",
   "metadata": {
    "slideshow": {
     "slide_type": "slide"
    }
   },
   "source": [
    "## 0. Inhalt\n",
    "\n",
    "1. Business Understanding\n",
    "\n",
    "2. Data Understanding\n",
    "\n",
    "3. Data Preperation\n",
    "\n",
    "4. Modeling\n",
    "\n",
    "5. Evaluation\n",
    "\n",
    "6. Deployment"
   ]
  },
  {
   "cell_type": "markdown",
   "id": "b1eab475",
   "metadata": {
    "slideshow": {
     "slide_type": "slide"
    }
   },
   "source": [
    "## 1. Business Understanding //Kai\n",
    "\n",
    "\n",
    "//Motivation aus Anwendungssicht: welche Fragestellungen werden mit Hilfe der Daten beantwortet?\n",
    "\n",
    "* Deutsche Bahn - Analyse\n",
    "\n",
    "* Ziel: Datenerhebung & -auswertung zu Zugverspätungen / -ausfällen\n",
    "    * Grundlegende statistische Darstellung von Fahrplandaten\n",
    "    * Identifizieren von Problemen und Ableiten möglicher Lösungswege\n",
    "    * Zusätzlich Erhebung von Wetterdaten & Korrelationsanalyse\n",
    "        * Vermutung von Mechanikern: Klimaanlagen von ICE's sorgen für Störungen im Betrieb"
   ]
  },
  {
   "cell_type": "markdown",
   "id": "a994d711",
   "metadata": {
    "slideshow": {
     "slide_type": "slide"
    }
   },
   "source": [
    "## 2. Data Understanding //Kai\n",
    "\n",
    "//Beschreibung der Datenquellen\n",
    "//Welche Schwierigkeiten sind aufgetreten und wie wurden sie gelöst? (bzgl. Datenquelle der Deutschen Bahn evtl.)\n",
    "\n",
    "* Verwendete Datenquellen:\n",
    "    * DB Reiseauskunft API\n",
    "    * BrightSky API"
   ]
  },
  {
   "cell_type": "markdown",
   "id": "4a3b4931",
   "metadata": {
    "slideshow": {
     "slide_type": "subslide"
    }
   },
   "source": [
    "## 2. Data Understanding\n",
    "\n",
    "### DB Reiseauskunft API\n",
    "\n",
    "* (Inoffizielle) API der Deutschen Bahn\n",
    "* Stellt standortbezogen u.A. folgende Daten bereit:\n",
    "    * Zeitstempel\n",
    "    * Zugtyp\n",
    "    * Zugnummer\n",
    "    * Abfahrt / Ankunft\n",
    "    * Verspätung / Zugausfall\n",
    "    * ...\n",
    "* //Andere API hier erwähnen?"
   ]
  },
  {
   "cell_type": "markdown",
   "id": "342fcf10",
   "metadata": {
    "slideshow": {
     "slide_type": "subslide"
    }
   },
   "source": [
    "## 2. Data Understanding\n",
    "\n",
    "### BrightSky API\n",
    "\n",
    "* API des Deutschen Wetterdienstes\n",
    "* Stellt standortbezogen u.A. folgende Wetterdaten bereit:\n",
    "    * Zeitstempel\n",
    "    * Temperatur\n",
    "    * Wetterkonditionen\n",
    "    * Windstärke / -richtung\n",
    "    * Luftfeuchtigkeit\n",
    "    * Anzahl Sonnenstunden\n",
    "    * Bewölkung\n",
    "    * ..."
   ]
  },
  {
   "cell_type": "markdown",
   "id": "1edca9be",
   "metadata": {
    "slideshow": {
     "slide_type": "slide"
    }
   },
   "source": [
    "## 3. Data Preparation //Kai\n",
    "\n",
    "//Auswahl, Formatierung, Transformation der Daten\n",
    "\n",
    "* DB Fahrplan API\n",
    "    * Abfrage alle 30 Minuten\n",
    "    * Überprüfung der Vollständigkeit\n",
    "    * Parsen der zurückgegebenen Daten\n",
    "    * Abspeichern der Daten in MongoDB (JSON-Format)\n",
    "* BrightSky Wetter API\n",
    "    * Abfrage alle 30 Minuten\n",
    "    * Überprüfung der Vollständigkeit\n",
    "    * Abspeichern der zurückgegebenen Daten (JSON-Format) in MongoDB\n",
    "    \n",
    "//Grafik einfügen oder so belassen??\n"
   ]
  },
  {
   "cell_type": "markdown",
   "id": "21dab7a2",
   "metadata": {
    "slideshow": {
     "slide_type": "slide"
    }
   },
   "source": [
    "## 4. Modeling\n",
    "\n",
    "* Zwei Python-Skripte zum abfragen der Daten von den APIs.\n",
    "* Daten werden in das JSON-Format geparst und in einer MongoDB (NoSQL-Datenbank) gespeichert.\n",
    "* Die Skripte werden durch den Server der Datenbank via cronjobs ausgeführt.\n",
    " * Immer zu jeder halben und vollen Stunde\n",
    "* Die Skripte loggen ihre Ausführung in eine Log-Datei auf den Server die wie folgt aussieht:\n",
    "<center>\n",
    "$\n",
    "2022-11-03 19:00:01,408 INFO    weather: Start main_weather execution ...\n",
    "2022-11-03 19:00:01,410 INFO    train: Start main_train execution ...\n",
    "2022-11-03 19:00:01,708 INFO    weather: Result lat=50.05 lon=8.6 has 25 elements\n",
    "2022-11-03 19:00:01,824 INFO    weather: Result lat=49.5 lon=8.48 has 25 elements\n",
    "2022-11-03 19:00:01,844 INFO    weather: finished: 0 inserted, 2 updated, 48 unchanged\n",
    "2022-11-03 19:00:01,844 INFO    weather: ###########################################\n",
    "2022-11-03 19:00:01,917 INFO    train: Result eva=8000105 type=arr has 690 lines, calc 230.0 sets\n",
    "2022-11-03 19:00:02,493 INFO    train: Result eva=8000105 type=dep has 672 lines, calc 224.0 sets\n",
    "2022-11-03 19:00:02,938 INFO    train: Result eva=8000244 type=arr has 291 lines, calc 97.0 sets\n",
    "2022-11-03 19:00:03,233 INFO    train: Result eva=8000244 type=dep has 264 lines, calc 88.0 sets\n",
    "2022-11-03 19:00:03,301 INFO    train: finished: 295 inserted, 119 updated, 225 unchanged\n",
    "2022-11-03 19:00:03,301 INFO    train: ###########################################\n",
    "$\n",
    "</center>"
   ]
  },
  {
   "cell_type": "markdown",
   "id": "850c640d",
   "metadata": {
    "slideshow": {
     "slide_type": "subslide"
    }
   },
   "source": [
    "## 4. Modeling\n",
    "\n",
    "* Die MongoDB wurde dabei so konfiguriert, dass eine authentifizierung der Clients notwendig ist.\n",
    " * Dadurch kann global auf die Datenbank zugegriffen werden\n",
    " * Zudem wurde ein Web-Dashboard aufgesetzt, worüber die gepspeicherten Daten einfach eingesehen werden können:\n",
    "<img src=\"img/MongoDBDashboard.png\" width=\"1027\" height=\"346\"/>"
   ]
  },
  {
   "cell_type": "markdown",
   "id": "7cdd5d08",
   "metadata": {
    "slideshow": {
     "slide_type": "subslide"
    }
   },
   "source": [
    "## 4. Modeling\n",
    "\n",
    "* Die gesamte Pipeline sieht nun wie folgt aus:\n",
    "\n",
    "<center><img src=\"img/DataPipeline.png\" /></center>"
   ]
  },
  {
   "cell_type": "markdown",
   "id": "6ebdde77",
   "metadata": {
    "slideshow": {
     "slide_type": "slide"
    }
   },
   "source": [
    "## 5. Evaluation\n",
    "\n",
    "FREDERIK\n",
    "* Hauptteil: Beschreibung und Erläuterung der erstellten Datenpipeline\n",
    "* Wurde eine spezielle Konfiguration verwendet?\n",
    "* Darstellung der Ergebnisse mit einfacher Visualisierung (z.B. Jupyter oder Streamlit)"
   ]
  },
  {
   "cell_type": "markdown",
   "id": "4f6b834d",
   "metadata": {
    "slideshow": {
     "slide_type": "slide"
    }
   },
   "source": [
    "## 6. Deployment\n",
    "\n",
    "?\n",
    "* Zusammenfassung: Beantwortung der Fragen aus Anwendungssicht\n",
    "  * noch nicht genut Daten für zuverlässige Aussage\n",
    "* (was hätte man anders machen können?)"
   ]
  },
  {
   "cell_type": "markdown",
   "id": "7d7c9897",
   "metadata": {
    "slideshow": {
     "slide_type": "slide"
    }
   },
   "source": [
    "# Temp Test "
   ]
  },
  {
   "cell_type": "code",
   "execution_count": null,
   "id": "f6925308",
   "metadata": {},
   "outputs": [],
   "source": [
    "import pandas as pd\n",
    "from database import Database\n",
    "\n",
    "import matplotlib as mpl\n",
    "mpl.rcParams['figure.dpi'] = 200\n",
    "mpl.rcParams[\"figure.autolayout\"] = True\n",
    "mpl.rcParams[\"figure.figsize\"] = [10.00, 4.00]\n",
    "\n",
    "database = Database()"
   ]
  },
  {
   "cell_type": "markdown",
   "id": "7f4635e6",
   "metadata": {
    "slideshow": {
     "slide_type": "slide"
    }
   },
   "source": [
    "## Wetter Test "
   ]
  },
  {
   "cell_type": "code",
   "execution_count": null,
   "id": "0a801e9e",
   "metadata": {
    "scrolled": false,
    "slideshow": {
     "slide_type": "-"
    }
   },
   "outputs": [],
   "source": [
    "agg_result = database.mongo_data_weather.aggregate([{\n",
    "    \"$group\": {\n",
    "        \"_id\": \"$timestamp\",\n",
    "        \"count\": {\"$sum\": 1}\n",
    "    }\n",
    "}])\n",
    "weather = pd.DataFrame(list(agg_result))\n",
    "#weather\n",
    "plot = weather.plot(x='_id', y='count')"
   ]
  },
  {
   "cell_type": "code",
   "execution_count": null,
   "id": "55464042",
   "metadata": {},
   "outputs": [],
   "source": [
    "agg_result3 = database.mongo_data_weather.aggregate([\n",
    "    {\n",
    "        \"$group\": {\n",
    "            \"_id\": {\n",
    "                \"$dateToString\": {\n",
    "                    \"format\": \"%d.%m.%Y\",\n",
    "                    \"date\": {\"$toDate\": \"$timestamp\"}\n",
    "                }\n",
    "            },\n",
    "            \"count\": {\"$sum\": 1}\n",
    "        }\n",
    "    },\n",
    "    {\"$sort\": {\"_id\": 1}}\n",
    "])\n",
    "weather2 = pd.DataFrame(list(agg_result3))\n",
    "#weather2\n",
    "weather2.plot(x='_id', y='count')"
   ]
  },
  {
   "cell_type": "code",
   "execution_count": null,
   "id": "4e5a5522",
   "metadata": {},
   "outputs": [],
   "source": [
    "weather2"
   ]
  },
  {
   "cell_type": "code",
   "execution_count": null,
   "id": "f5d8102d",
   "metadata": {},
   "outputs": [],
   "source": [
    "result = database.mongo_data_weather.find({})\n",
    "df = pd.DataFrame(list(result))\n",
    "df"
   ]
  },
  {
   "cell_type": "code",
   "execution_count": null,
   "id": "dea4cddd",
   "metadata": {},
   "outputs": [],
   "source": [
    "df.plot(x='timestamp', y='temperature')\n",
    "#weather\n",
    "print(list(result))"
   ]
  },
  {
   "cell_type": "markdown",
   "id": "960a9876",
   "metadata": {},
   "source": [
    "## Züge"
   ]
  },
  {
   "cell_type": "code",
   "execution_count": null,
   "id": "1790042a",
   "metadata": {},
   "outputs": [],
   "source": [
    "database.mongo_data_train.count_documents(filter={})"
   ]
  },
  {
   "cell_type": "code",
   "execution_count": null,
   "id": "1ce23864",
   "metadata": {},
   "outputs": [],
   "source": [
    "for i in database.mongo_data_train.find({\"eva\": 8000244}).limit(5):\n",
    "    print(i)"
   ]
  },
  {
   "cell_type": "code",
   "execution_count": null,
   "id": "5a7871c8",
   "metadata": {},
   "outputs": [],
   "source": [
    "agg_result2 = database.mongo_data_train.aggregate([{\n",
    "    \"$group\": {\n",
    "        \"_id\": \"$timestamp\",\n",
    "        \"count\": {\"$sum\": 1}\n",
    "    }\n",
    "}])\n",
    "#for i in agg_result:\n",
    "#    print(i)\n",
    "train = pd.DataFrame(list(agg_result2))\n",
    "#train\n",
    "train.plot(x='_id', y='count')"
   ]
  },
  {
   "cell_type": "code",
   "execution_count": null,
   "id": "a26dabaa",
   "metadata": {},
   "outputs": [],
   "source": [
    "agg_result4 = database.mongo_data_train.aggregate([\n",
    "    {\n",
    "        \"$group\": {\n",
    "            \"_id\": {\n",
    "                \"$dateToString\": {\n",
    "                    \"format\": \"%d.%m.%Y\",\n",
    "                    \"date\": {\"$toDate\": \"$timestamp\"}\n",
    "                }\n",
    "            },\n",
    "            \"count\": {\"$sum\": 1}\n",
    "        }\n",
    "    },\n",
    "    {\"$sort\": {\"_id\": 1}}\n",
    "])\n",
    "#for i in agg_result:\n",
    "#    print(i)\n",
    "train2 = pd.DataFrame(list(agg_result4))\n",
    "#train2\n",
    "train2.plot(x='_id', y='count')"
   ]
  },
  {
   "cell_type": "code",
   "execution_count": null,
   "id": "03efae9c",
   "metadata": {},
   "outputs": [],
   "source": [
    "train2"
   ]
  },
  {
   "cell_type": "code",
   "execution_count": null,
   "id": "dc307acb",
   "metadata": {},
   "outputs": [],
   "source": [
    "for i in database.mongo_data_train.find(sort=[(\"delay\", -1)]).limit(20):\n",
    "    print(i)"
   ]
  },
  {
   "cell_type": "code",
   "execution_count": null,
   "id": "8b2f34e8",
   "metadata": {},
   "outputs": [],
   "source": [
    "for i in database.mongo_data_train.find(filter={\"con_type\":\"RE\"}, sort=[(\"delay\", -1)]).limit(20):\n",
    "    print(i)"
   ]
  },
  {
   "cell_type": "code",
   "execution_count": null,
   "id": "cc88d1f5",
   "metadata": {},
   "outputs": [],
   "source": [
    "timerange = database.mongo_data_train.find({\n",
    "    \"timestamp\": {\n",
    "        \"$gt\": \"2022-11-05T17:45\",\n",
    "        \"$lt\": \"2022-11-05T18:00\",\n",
    "    }\n",
    "})\n",
    "l = list(timerange)\n",
    "for i in l:\n",
    "    print(i)\n",
    "print(len(l))"
   ]
  },
  {
   "cell_type": "code",
   "execution_count": null,
   "id": "39e2a4d0",
   "metadata": {},
   "outputs": [],
   "source": [
    "database.close()"
   ]
  },
  {
   "cell_type": "code",
   "execution_count": null,
   "id": "f2eb3a5c",
   "metadata": {},
   "outputs": [],
   "source": [
    "# use https://stackoverflow.com/a/33079582/13777031\n",
    "\n",
    "# https://rise.readthedocs.io/en/stable/customize.html\n",
    "\n",
    "# https://ourcodingclub.github.io/tutorials/pandas-time-series/"
   ]
  },
  {
   "cell_type": "code",
   "execution_count": null,
   "id": "84bc695b",
   "metadata": {},
   "outputs": [],
   "source": []
  }
 ],
 "metadata": {
  "celltoolbar": "Slideshow",
  "kernelspec": {
   "display_name": "Python 3 (ipykernel)",
   "language": "python",
   "name": "python3"
  },
  "language_info": {
   "codemirror_mode": {
    "name": "ipython",
    "version": 3
   },
   "file_extension": ".py",
   "mimetype": "text/x-python",
   "name": "python",
   "nbconvert_exporter": "python",
   "pygments_lexer": "ipython3",
   "version": "3.10.2"
  }
 },
 "nbformat": 4,
 "nbformat_minor": 5
}
