{
 "cells": [
  {
   "cell_type": "markdown",
   "id": "62065c92",
   "metadata": {
    "slideshow": {
     "slide_type": "skip"
    }
   },
   "source": [
    "Etwas styling ..."
   ]
  },
  {
   "cell_type": "code",
   "execution_count": null,
   "id": "46ac70d1",
   "metadata": {
    "slideshow": {
     "slide_type": "skip"
    }
   },
   "outputs": [],
   "source": [
    "%%html\n",
    "<style>\n",
    "h1 { color: rgb(226, 0, 26); }\n",
    "h2 { color: rgb(0, 80, 120); }\n",
    "</style>"
   ]
  },
  {
   "cell_type": "markdown",
   "id": "a4e20046",
   "metadata": {
    "slideshow": {
     "slide_type": "slide"
    }
   },
   "source": [
    "# BigData - DBWeather\n",
    "---\n",
    "*Programmentwurf - Wintersemester 2022 - DHBW Mannheim*\\\n",
    "Daniel Czeschner, Kai Grübener, Frederik Wolter"
   ]
  },
  {
   "cell_type": "markdown",
   "id": "2a70516e",
   "metadata": {
    "slideshow": {
     "slide_type": "slide"
    }
   },
   "source": [
    "## 0. Inhalt\n",
    "\n",
    "1. Business Understanding\n",
    "\n",
    "2. Data Understanding\n",
    "\n",
    "3. Data Preperation\n",
    "\n",
    "4. Modeling\n",
    "\n",
    "5. Evaluation\n",
    "\n",
    "6. Deployment\n",
    "\n",
    "*... in Anlehnung an CRISP-DM*"
   ]
  },
  {
   "cell_type": "markdown",
   "id": "b1eab475",
   "metadata": {
    "slideshow": {
     "slide_type": "slide"
    }
   },
   "source": [
    "## 1. Business Understanding\n",
    "\n",
    "* __Perspektive__: Deutsche Bahn\n",
    "\n",
    "* __Vermutung__: \n",
    "\n",
    "<center><i>Klimaanlagen sorgen für Störungen bei extremen Temperaturen, besonders bei ICE's</i></center>\n",
    "\n",
    "* __Ziel__: Erhebung & Auswertung von Daten zu Zugverspätungen & -ausfällen\n",
    "    * Grundlegende statistische Darstellung von Fahrplan-Änderungs-Daten    \n",
    "    * Identifizieren von Problemen und Ableiten möglicher Problemursachen\n",
    "    * Erhebung von Wetterdaten für die Analyse einer potentiellen Korrelation"
   ]
  },
  {
   "cell_type": "markdown",
   "id": "a994d711",
   "metadata": {
    "slideshow": {
     "slide_type": "slide"
    }
   },
   "source": [
    "## 2. Data Understanding\n",
    "\n",
    "Verwendete Datenquellen:\n",
    "  * Deutsche Bahn Timetable API<br> \n",
    "    `apis.deutschebahn.com/db-api-marketplace/apis/timetables/`\n",
    "  \n",
    "  * Deutsche Bahn Reiseauskunft API<br>\n",
    "    `reiseauskunft.bahn.de/bin/`\n",
    "  \n",
    "  * BrightSky API<br>\n",
    "    `api.brightsky.dev/`"
   ]
  },
  {
   "cell_type": "markdown",
   "id": "6586c244",
   "metadata": {
    "slideshow": {
     "slide_type": "subslide"
    }
   },
   "source": [
    "## 2.1 Data Understanding – DB Timetable\n",
    "\n",
    "* API des Deutschen Bahn API-Marketplace\n",
    "\n",
    "* `/station/{pattern}`\n",
    "```xml\n",
    "<station meta=\"518342\" name=\"Mannheim Hbf\" eva=\"8000244\" p=\"...\" ...=\"\" />\n",
    "```\n",
    "\n",
    "* `/fchg/{evaNo}`\n",
    "  * stellt viele schlecht dokumentiert Daten über Fahrplan-Änderungen bereit\n",
    "    * Zugtyp, Zugnummer\n",
    "    * Durchsagen? \n",
    "    * **geänderte** Gleise, Halte, Ankunf, Abfahrt, Ausfall\n",
    "    <div class=\"alert alert-danger\">\n",
    "        <b>Achtung:</b> keine/kaum Plan-Daten für Ankunf und Abfahrt > andere API!\n",
    "    </div>"
   ]
  },
  {
   "cell_type": "markdown",
   "id": "4a3b4931",
   "metadata": {
    "slideshow": {
     "slide_type": "subslide"
    }
   },
   "source": [
    "## 2.2 Data Understanding – DB Reiseauskunft\n",
    "\n",
    "* API der Deutschen Bahn – _\"not so official\"_\n",
    "\n",
    "* `bhftafel.exe/dn?L=vs_java&start=yes&boardType={arr|dep}&input={evaNo}`\n",
    "\n",
    "    ```\n",
    "    8000244 Mannheim Hbf\n",
    "    17:23\n",
    "    IC  2217\n",
    "    + 35\n",
    "    17:24\n",
    "    S      1\n",
    "    no\n",
    "    17:31\n",
    "    ICE  611\n",
    "    cancel\n",
    "    ```"
   ]
  },
  {
   "cell_type": "markdown",
   "id": "342fcf10",
   "metadata": {
    "slideshow": {
     "slide_type": "subslide"
    }
   },
   "source": [
    "## 2.3 Data Understanding – BrightSky\n",
    "\n",
    "* API des Deutschen Wetterdienstes\n",
    "\n",
    "* `/weather?lat={Latitude}&lon={Longitude}&date={Date}&tz={TimeZone}`\n",
    "\n",
    "    ```json\n",
    "    \"weather\": [{ \"timestamp\": \"2022-11-03T00:00:00+01:00\",\n",
    "                  \"source_id\": 184401,\n",
    "                  \"pressure_msl\": 1021.7, \"sunshine\": 0.0,\n",
    "                  \"temperature\": 6.8,     \"condition\": \"dry\"\n",
    "                  \"wind_direction\": 220,  \"wind_speed\": 4.3,\n",
    "                  \"cloud_cover\": 100,     \"visibility\": 31110,\n",
    "                  \"relative_humidity\": 96, ...\n",
    "                }, ... ],\n",
    "    ```\n",
    "    ```json\n",
    "    \"sources\": [ ... ]\n",
    "    ```"
   ]
  },
  {
   "cell_type": "markdown",
   "id": "1edca9be",
   "metadata": {
    "slideshow": {
     "slide_type": "slide"
    }
   },
   "source": [
    "## 3. Data Preparation\n",
    "\n",
    "__Abspeichern der Daten__\n",
    "\n",
    "* Welche Daten speichern?\n",
    "\n",
    "* Wie Daten speichern?\n",
    "\n",
    "* In welchem Format Daten speichern?"
   ]
  },
  {
   "cell_type": "markdown",
   "id": "a76cb1ba",
   "metadata": {
    "slideshow": {
     "slide_type": "subslide"
    }
   },
   "source": [
    "## 3.1 Data Preparation – Deutsche Bahn\n",
    "\n",
    "* Speichern als einzelne Ankunft/Abfahrt\n",
    "\n",
    "* Hinzufügen von `eva` und `board_type`\n",
    "\n",
    "* Parsen der Informationen zu `JSON`\n",
    "\n",
    "    ```json\n",
    "    {\n",
    "        \"timestamp\": \"2022-11-03T17:48:00+01:00\",\n",
    "        \"eva\": 8000105,\n",
    "        \"board_type\": \"arr\",\n",
    "        \"con_line\": \"725\",\n",
    "        \"con_type\": \"ICE\",\n",
    "        \"delay\": 26\n",
    "    }\n",
    "    ```\n",
    "    \n",
    "<div class=\"alert alert-block alert-info\">\n",
    "    <b>Info:</b> <code>delay</code> \"cancel\" wird als <code>-1</code> dargestellt\n",
    "</div>\n",
    "    "
   ]
  },
  {
   "cell_type": "markdown",
   "id": "33e35df2",
   "metadata": {
    "slideshow": {
     "slide_type": "subslide"
    }
   },
   "source": [
    "## 3.2 Data Preparation – BrightSky\n",
    "\n",
    "* Speichern als einzelne stündliche Datensätze\n",
    "\n",
    "* Hinzufügen von `lon` und `lat`\n",
    "    <pre>\n",
    "    <code class=\"cm-s-ipython language-json\" style=\"max-height: none;\">  \n",
    "    { \n",
    "        <span class=\"cm-string cm-property\">\"timestamp\"</span>: <span class=\"cm-string\">\"2022-11-25T14:00:00+01:00\"</span>,\n",
    "        <span class=\"cm-string cm-property\">\"lat\"</span>: <span class=\"cm-number\">50.05</span>,        \n",
    "        <span class=\"cm-string cm-property\">\"lon\"</span>: <span class=\"cm-number\">8.6</span>,\n",
    "        <span class=\"cm-string cm-property\">\"cloud_cover\"</span>: <span class=\"cm-number\">88</span>,   \n",
    "        <span class=\"cm-string cm-property\">\"condition\"</span>: <span class=\"cm-string\">\"dry\"</span>,\n",
    "        <span class=\"cm-string cm-property\">\"pressure_msl\"</span>: <span class=\"cm-number\">1018.8</span>,\n",
    "        <span class=\"cm-string cm-property\">\"relative_humidity\"</span>: <span class=\"cm-number\">83</span>,\n",
    "        <span class=\"cm-string cm-property\">\"sunshine\"</span>: <span class=\"cm-number\">32</span>,\n",
    "        <span class=\"cm-string cm-property\">\"temperature\"</span>: <span class=\"cm-number\">9.2</span>,\n",
    "        <span class=\"cm-string cm-property\">\"wind_speed\"</span>: <span class=\"cm-number\">10.1</span>, \n",
    "        <span class=\"cm-meta\">...</span> \n",
    "    }\n",
    "    </code>\n",
    "    </pre>"
   ]
  },
  {
   "cell_type": "markdown",
   "id": "7cdd5d08",
   "metadata": {
    "slideshow": {
     "slide_type": "slide"
    }
   },
   "source": [
    "## 4. Modeling\n",
    "\n",
    "Die Pipeline ist wie folgt aufgebaut:\n",
    "\n",
    "<center><img src=\"img/DataPipeline.png\" /></center>"
   ]
  },
  {
   "cell_type": "markdown",
   "id": "8da737fd",
   "metadata": {
    "slideshow": {
     "slide_type": "subslide"
    }
   },
   "source": [
    "## 4.X Modeling – Python\n",
    "\n",
    "// TODO"
   ]
  },
  {
   "cell_type": "markdown",
   "id": "850c640d",
   "metadata": {
    "slideshow": {
     "slide_type": "subslide"
    }
   },
   "source": [
    "## 4.X Modeling – Datenbank\n",
    "\n",
    "// weiß nicht wie weit wir hier ins detail gehen sollten, ist ja theoretisch auch alles lokal möglich\n",
    "\n",
    "// Collections\n",
    "\n",
    "* Die MongoDB wurde so konfiguriert, dass eine Authentifizierung der Clients notwendig ist.\n",
    " * Dadurch wird die Datenbank vor fremder Einsicht geschützt und konnte somit global verfügbar gemacht werden.\n",
    " * Zudem wurde ein Web-Dashboard aufgesetzt, worüber die gepspeicherten Daten einfach eingesehen werden können:\n",
    " \n",
    "<center><img src=\"img/MongoDBDashboard.png\" width=\"927\" height=\"246\"/></center>"
   ]
  },
  {
   "cell_type": "markdown",
   "id": "2fb92ae0",
   "metadata": {
    "slideshow": {
     "slide_type": "subslide"
    }
   },
   "source": [
    "## 4.X Modeling – Ausfürhung\n",
    "\n",
    "* Python-Skripte werden durch einen Debian-Server via `cronjob` ausgeführt\n",
    "  * zur _halben_ und _vollen Stunde_\n",
    "  \n",
    "* Bei der Ausführung wird eine Log-Datei auf dem Server erstellt:\n",
    "\n",
    "\n",
    "<center>\n",
    "<span class=\"noError\" id=\"MathJax-Span-87\" style=\"display: inline-block; text-align: left; font-size: 0.8em\">\n",
    "2022-11-03 19:00:01,408 INFO&nbsp;&nbsp;&nbsp;&nbsp;weather: Start main_weather execution ...<br>\n",
    "2022-11-03 19:00:01,410 INFO&nbsp;&nbsp;&nbsp;&nbsp;train: Start main_train execution ...<br>\n",
    "2022-11-03 19:00:01,708 INFO&nbsp;&nbsp;&nbsp;&nbsp;weather: Result lat=50.05 lon=8.6 has 25 elements<br>\n",
    "2022-11-03 19:00:01,824 INFO&nbsp;&nbsp;&nbsp;&nbsp;weather: Result lat=49.5 lon=8.48 has 25 elements<br>\n",
    "2022-11-03 19:00:01,844 INFO&nbsp;&nbsp;&nbsp;&nbsp;weather: finished: 0 inserted, 2 updated, 48 unchanged<br>\n",
    "2022-11-03 19:00:01,844 INFO&nbsp;&nbsp;&nbsp;&nbsp;weather: ###########################################<br>\n",
    "2022-11-03 19:00:01,917 INFO&nbsp;&nbsp;&nbsp;&nbsp;train: Result eva=8000105 type=arr has 690 lines, calc 230.0 sets<br>\n",
    "2022-11-03 19:00:02,493 INFO&nbsp;&nbsp;&nbsp;&nbsp;train: Result eva=8000105 type=dep has 672 lines, calc 224.0 sets<br>\n",
    "2022-11-03 19:00:02,938 INFO&nbsp;&nbsp;&nbsp;&nbsp;train: Result eva=8000244 type=arr has 291 lines, calc 97.0 sets<br>\n",
    "2022-11-03 19:00:03,233 INFO&nbsp;&nbsp;&nbsp;&nbsp;train: Result eva=8000244 type=dep has 264 lines, calc 88.0 sets<br>\n",
    "2022-11-03 19:00:03,301 INFO&nbsp;&nbsp;&nbsp;&nbsp;train: finished: 295 inserted, 119 updated, 225 unchanged<br>\n",
    "2022-11-03 19:00:03,301 INFO&nbsp;&nbsp;&nbsp;&nbsp;train: ###########################################<br>\n",
    "</span>\n",
    "<center>\n",
    "    \n"
   ]
  },
  {
   "cell_type": "markdown",
   "id": "0e45fc58",
   "metadata": {
    "slideshow": {
     "slide_type": "subslide"
    }
   },
   "source": [
    "## 4.X Modeling – Auswertung\n",
    "\n",
    "* Für das Auswerten und Visualisieren der Daten wird dieses `Jupyter Notebook` verwendet\n",
    "* Für die Präsentation wird die Extension [`Rise`](https://rise.readthedocs.io/en/stable/) verwendet. "
   ]
  },
  {
   "cell_type": "markdown",
   "id": "6ebdde77",
   "metadata": {
    "slideshow": {
     "slide_type": "slide"
    }
   },
   "source": [
    "## 5. Evaluation\n",
    "\n",
    "* Hauptteil: Beschreibung und Erläuterung der erstellten Datenpipeline\n",
    "* Wurde eine spezielle Konfiguration verwendet?\n",
    "* Darstellung der Ergebnisse mit einfacher Visualisierung (z.B. Jupyter oder Streamlit)"
   ]
  },
  {
   "cell_type": "markdown",
   "id": "2b6dbd8d",
   "metadata": {},
   "source": [
    "* Tortendiagramm Zugarten\n",
    "* Ausfälle allgemein\n",
    "* Ausfälle pro rug art \n",
    "* Verspätungen allgemein\n",
    "* Verspätungen je Zug art\n",
    "* Walk of Fame Verspätungen\n",
    "* Wetter kombis\n",
    "    * temp <> verspätung (Zugart)\n",
    "    * evtl. mehr"
   ]
  },
  {
   "cell_type": "code",
   "execution_count": null,
   "id": "f6925308",
   "metadata": {
    "slideshow": {
     "slide_type": "-"
    }
   },
   "outputs": [],
   "source": [
    "from pandas import DataFrame\n",
    "from database import Database\n",
    "\n",
    "database = Database()\n",
    "data_train = database.mongo_data_train\n",
    "data_weather = database.mongo_data_weather"
   ]
  },
  {
   "cell_type": "code",
   "execution_count": null,
   "id": "1fab0dcf",
   "metadata": {
    "slideshow": {
     "slide_type": "skip"
    }
   },
   "outputs": [],
   "source": [
    "# plot config\n",
    "import matplotlib as mpl\n",
    "mpl.rcParams['figure.dpi'] = 200\n",
    "mpl.rcParams[\"figure.autolayout\"] = True\n",
    "mpl.rcParams[\"figure.figsize\"] = [10.00, 4.00]"
   ]
  },
  {
   "cell_type": "markdown",
   "id": "40e7b836",
   "metadata": {
    "slideshow": {
     "slide_type": "subslide"
    }
   },
   "source": [
    "## 5.X Evaluation – Wetter Einführung"
   ]
  },
  {
   "cell_type": "code",
   "execution_count": null,
   "id": "5c56124d",
   "metadata": {
    "slideshow": {
     "slide_type": "-"
    }
   },
   "outputs": [],
   "source": [
    "data_weather.count_documents({})"
   ]
  },
  {
   "cell_type": "code",
   "execution_count": null,
   "id": "55464042",
   "metadata": {
    "scrolled": false,
    "slideshow": {
     "slide_type": "fragment"
    }
   },
   "outputs": [],
   "source": [
    "result = data_weather.aggregate([\n",
    "    {\"$group\":  { \"_id\": { \"$dateToString\": { \"format\": \"%d.%m.%Y\", \"date\": {\"$toDate\": \"$timestamp\"} } }, \"count\": {\"$sum\": 1} } },\n",
    "    {\"$sort\": {\"_id\": 1}}\n",
    "])\n",
    "plot = DataFrame(list(result)).plot(x='_id', y='count')"
   ]
  },
  {
   "cell_type": "markdown",
   "id": "ab3a4372",
   "metadata": {
    "slideshow": {
     "slide_type": "subslide"
    }
   },
   "source": [
    "## 5.X Evaluation – Wetter"
   ]
  },
  {
   "cell_type": "code",
   "execution_count": null,
   "id": "318c546e",
   "metadata": {
    "slideshow": {
     "slide_type": "-"
    }
   },
   "outputs": [],
   "source": [
    "result = data_weather.find({\"lat\": 49.5, \"lon\": 8.48})\n",
    "plot = DataFrame(list(result)).plot(x='timestamp', y='temperature')"
   ]
  },
  {
   "cell_type": "code",
   "execution_count": null,
   "id": "5739d69d",
   "metadata": {},
   "outputs": [],
   "source": [
    "result = data_weather.find({\"lat\": 50.05, \"lon\": 8.6})\n",
    "plot = DataFrame(list(result)).plot(x='timestamp', y='temperature')"
   ]
  },
  {
   "cell_type": "code",
   "execution_count": null,
   "id": "66489bcd",
   "metadata": {},
   "outputs": [],
   "source": [
    "result  = data_weather.find({\"lat\": 49.5, \"lon\": 8.48})\n",
    "result2 = data_weather.find({\"lat\": 50.05, \"lon\": 8.6})\n",
    "plot = DataFrame(list(result) + list(result2)).plot(x='timestamp', y='temperature')"
   ]
  },
  {
   "cell_type": "markdown",
   "id": "4f6b834d",
   "metadata": {
    "slideshow": {
     "slide_type": "slide"
    }
   },
   "source": [
    "## 6. Deployment\n",
    "\n",
    "?\n",
    "* Zusammenfassung: Beantwortung der Fragen aus Anwendungssicht\n",
    "  * noch nicht genut Daten für zuverlässige Aussage\n",
    "* (was hätte man anders machen können?)"
   ]
  },
  {
   "cell_type": "markdown",
   "id": "af19b507",
   "metadata": {},
   "source": [
    "## 6. Deployment ( Daniel 🙂 )\n",
    "\n",
    "### Probleme\n",
    "* Der Server ist am 20.11.2022 eingefroren aus unbekannter Ursache.\n",
    "* Dies wurde unglücklicherweise erst ungefähr zwei Tage Später festgestellt.\n",
    " * Die Wetter-Daten konnten hier nachträglich geladen werden.\n",
    " * Die DB-Daten jedoch nicht, da die API nicht die Daten der letzten Tage bereitstellt."
   ]
  },
  {
   "cell_type": "markdown",
   "id": "7d7c9897",
   "metadata": {
    "slideshow": {
     "slide_type": "slide"
    }
   },
   "source": [
    "# Temp Test "
   ]
  },
  {
   "cell_type": "markdown",
   "id": "7f4635e6",
   "metadata": {
    "slideshow": {
     "slide_type": "slide"
    }
   },
   "source": [
    "## Wetter Test "
   ]
  },
  {
   "cell_type": "code",
   "execution_count": null,
   "id": "0a801e9e",
   "metadata": {
    "scrolled": false,
    "slideshow": {
     "slide_type": "-"
    }
   },
   "outputs": [],
   "source": [
    "agg_result = database.mongo_data_weather.aggregate([{\n",
    "    \"$group\": {\n",
    "        \"_id\": \"$timestamp\",\n",
    "        \"count\": {\"$sum\": 1}\n",
    "    }\n",
    "}])\n",
    "weather = pd.DataFrame(list(agg_result))\n",
    "#weather\n",
    "plot = weather.plot(x='_id', y='count')"
   ]
  },
  {
   "cell_type": "code",
   "execution_count": null,
   "id": "f5d8102d",
   "metadata": {},
   "outputs": [],
   "source": [
    "result = database.mongo_data_weather.find({})\n",
    "df = pd.DataFrame(list(result))\n",
    "df"
   ]
  },
  {
   "cell_type": "code",
   "execution_count": null,
   "id": "dea4cddd",
   "metadata": {},
   "outputs": [],
   "source": [
    "df.plot(x='timestamp', y='temperature')"
   ]
  },
  {
   "cell_type": "markdown",
   "id": "960a9876",
   "metadata": {},
   "source": [
    "## Züge"
   ]
  },
  {
   "cell_type": "code",
   "execution_count": null,
   "id": "1790042a",
   "metadata": {},
   "outputs": [],
   "source": [
    "database.mongo_data_train.count_documents(filter={})"
   ]
  },
  {
   "cell_type": "code",
   "execution_count": null,
   "id": "1ce23864",
   "metadata": {},
   "outputs": [],
   "source": [
    "for i in database.mongo_data_train.find({\"eva\": 8000244}).limit(5):\n",
    "    print(i)"
   ]
  },
  {
   "cell_type": "code",
   "execution_count": null,
   "id": "5a7871c8",
   "metadata": {},
   "outputs": [],
   "source": [
    "agg_result2 = database.mongo_data_train.aggregate([{\n",
    "    \"$group\": {\n",
    "        \"_id\": \"$timestamp\",\n",
    "        \"count\": {\"$sum\": 1}\n",
    "    }\n",
    "}])\n",
    "#for i in agg_result:\n",
    "#    print(i)\n",
    "train = pd.DataFrame(list(agg_result2))\n",
    "#train\n",
    "train.plot(x='_id', y='count')"
   ]
  },
  {
   "cell_type": "code",
   "execution_count": null,
   "id": "a26dabaa",
   "metadata": {},
   "outputs": [],
   "source": [
    "agg_result4 = database.mongo_data_train.aggregate([\n",
    "    {\n",
    "        \"$group\": {\n",
    "            \"_id\": {\n",
    "                \"$dateToString\": {\n",
    "                    \"format\": \"%d.%m.%Y\",\n",
    "                    \"date\": {\"$toDate\": \"$timestamp\"}\n",
    "                }\n",
    "            },\n",
    "            \"count\": {\"$sum\": 1}\n",
    "        }\n",
    "    },\n",
    "    {\"$sort\": {\"_id\": 1}}\n",
    "])\n",
    "#for i in agg_result:\n",
    "#    print(i)\n",
    "train2 = pd.DataFrame(list(agg_result4))\n",
    "#train2\n",
    "train2.plot(x='_id', y='count')"
   ]
  },
  {
   "cell_type": "code",
   "execution_count": null,
   "id": "03efae9c",
   "metadata": {},
   "outputs": [],
   "source": [
    "train2"
   ]
  },
  {
   "cell_type": "code",
   "execution_count": null,
   "id": "dc307acb",
   "metadata": {},
   "outputs": [],
   "source": [
    "for i in database.mongo_data_train.find(sort=[(\"delay\", -1)]).limit(20):\n",
    "    print(i)"
   ]
  },
  {
   "cell_type": "code",
   "execution_count": null,
   "id": "8b2f34e8",
   "metadata": {},
   "outputs": [],
   "source": [
    "for i in database.mongo_data_train.find(filter={\"con_type\":\"RE\"}, sort=[(\"delay\", -1)]).limit(20):\n",
    "    print(i)"
   ]
  },
  {
   "cell_type": "code",
   "execution_count": null,
   "id": "cc88d1f5",
   "metadata": {
    "scrolled": false
   },
   "outputs": [],
   "source": [
    "timerange = database.mongo_data_train.find({\n",
    "    \"timestamp\": {\n",
    "        \"$gt\": \"2022-11-05T17:45\",\n",
    "        \"$lt\": \"2022-11-05T18:00\",\n",
    "    }\n",
    "})\n",
    "l = list(timerange)\n",
    "for i in l:\n",
    "    print(i)\n",
    "print(len(l))"
   ]
  },
  {
   "cell_type": "code",
   "execution_count": null,
   "id": "39e2a4d0",
   "metadata": {},
   "outputs": [],
   "source": [
    "database.close()"
   ]
  },
  {
   "cell_type": "code",
   "execution_count": null,
   "id": "f2eb3a5c",
   "metadata": {},
   "outputs": [],
   "source": [
    "# use https://stackoverflow.com/a/33079582/13777031\n",
    "\n",
    "# https://rise.readthedocs.io/en/stable/customize.html\n",
    "\n",
    "# https://ourcodingclub.github.io/tutorials/pandas-time-series/"
   ]
  },
  {
   "cell_type": "code",
   "execution_count": null,
   "id": "84bc695b",
   "metadata": {},
   "outputs": [],
   "source": []
  },
  {
   "cell_type": "code",
   "execution_count": null,
   "id": "9c9df25d",
   "metadata": {},
   "outputs": [],
   "source": []
  }
 ],
 "metadata": {
  "celltoolbar": "Slideshow",
  "kernelspec": {
   "display_name": "Python 3 (ipykernel)",
   "language": "python",
   "name": "python3"
  },
  "language_info": {
   "codemirror_mode": {
    "name": "ipython",
    "version": 3
   },
   "file_extension": ".py",
   "mimetype": "text/x-python",
   "name": "python",
   "nbconvert_exporter": "python",
   "pygments_lexer": "ipython3",
   "version": "3.9.13"
  }
 },
 "nbformat": 4,
 "nbformat_minor": 5
}
