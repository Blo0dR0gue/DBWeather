{
 "cells": [
  {
   "cell_type": "markdown",
   "id": "506d1f93",
   "metadata": {
    "slideshow": {
     "slide_type": "skip"
    }
   },
   "source": [
    "Etwas styling ..."
   ]
  },
  {
   "cell_type": "code",
   "execution_count": null,
   "id": "46ac70d1",
   "metadata": {
    "slideshow": {
     "slide_type": "skip"
    }
   },
   "outputs": [],
   "source": [
    "%%html\n",
    "<style>\n",
    "h1 { color: rgb(226, 0, 26); }\n",
    "h2 { color: rgb(0, 80, 120); }\n",
    "</style>"
   ]
  },
  {
   "cell_type": "markdown",
   "id": "a4e20046",
   "metadata": {
    "slideshow": {
     "slide_type": "slide"
    }
   },
   "source": [
    "# BigData - DBWeather\n",
    "---\n",
    "Programmentwurf - Wintersemester 2022 - DHBW Mannheim\\\n",
    "Daniel Czeschner, Kai Grübener, Frederik Wolter"
   ]
  },
  {
   "cell_type": "markdown",
   "id": "2a70516e",
   "metadata": {
    "slideshow": {
     "slide_type": "slide"
    }
   },
   "source": [
    "## 0. Inhalt\n",
    "\n",
    "1. Business Understanding\n",
    "\n",
    "2. Data Understanding\n",
    "\n",
    "3. Data Preperation\n",
    "\n",
    "4. Modeling\n",
    "\n",
    "5. Evaluation\n",
    "\n",
    "6. Deployment"
   ]
  },
  {
   "cell_type": "markdown",
   "id": "b1eab475",
   "metadata": {
    "slideshow": {
     "slide_type": "slide"
    }
   },
   "source": [
    "## 1. Business Understanding\n",
    "\n",
    "KAI\n",
    "* Motivation aus Anwendungssicht: welche Fragestellungen werden mit Hilfe der Daten beantwortet?"
   ]
  },
  {
   "cell_type": "markdown",
   "id": "a994d711",
   "metadata": {
    "slideshow": {
     "slide_type": "slide"
    }
   },
   "source": [
    "## 2. Data Understanding\n",
    "\n",
    "KAI\n",
    "* Beschreibung der Datenquellen\n",
    "* Welche Schwierigkeiten sind aufgetreten und wie wurden sie gelöst? (bzgl. Datenquelle der Deutschen Bahn evtl.)"
   ]
  },
  {
   "cell_type": "markdown",
   "id": "1edca9be",
   "metadata": {
    "slideshow": {
     "slide_type": "slide"
    }
   },
   "source": [
    "## 3. Data Preparation\n",
    "\n",
    "KAI"
   ]
  },
  {
   "cell_type": "markdown",
   "id": "21dab7a2",
   "metadata": {
    "slideshow": {
     "slide_type": "slide"
    }
   },
   "source": [
    "## 4. Modeling\n",
    "\n",
    "DANIEL\n",
    "* Hauptteil: Beschreibung und Erläuterung der erstellten Datenpipeline\n",
    "* Architektur: Aus welchen Komponenten besteht die Pipeline und wie sind sie miteinander verbunden?\n",
    "* Wurde eine spezielle Konfiguration verwendet?\n",
    "* Speicherung in NoSQL Datenbank (z.B. MongoDB), relationaler Datenbank, oder direkte Weiterverarbeitung\n",
    "\n",
    "![DataPipeline](img/DataPipeline.png)"
   ]
  },
  {
   "cell_type": "markdown",
   "id": "6ebdde77",
   "metadata": {
    "slideshow": {
     "slide_type": "slide"
    }
   },
   "source": [
    "## 5. Evaluation\n",
    "\n",
    "FREDERIK\n",
    "* Hauptteil: Beschreibung und Erläuterung der erstellten Datenpipeline\n",
    "* Wurde eine spezielle Konfiguration verwendet?\n",
    "* Darstellung der Ergebnisse mit einfacher Visualisierung (z.B. Jupyter oder Streamlit)"
   ]
  },
  {
   "cell_type": "markdown",
   "id": "4f6b834d",
   "metadata": {
    "slideshow": {
     "slide_type": "slide"
    }
   },
   "source": [
    "## 6. Deployment\n",
    "\n",
    "?\n",
    "* Zusammenfassung: Beantwortung der Fragen aus Anwendungssicht\n",
    "  * noch nicht genut Daten für zuverlässige Aussage\n",
    "* (was hätte man anders machen können?)"
   ]
  },
  {
   "cell_type": "markdown",
   "id": "7d7c9897",
   "metadata": {
    "slideshow": {
     "slide_type": "slide"
    }
   },
   "source": [
    "# Temp Test "
   ]
  },
  {
   "cell_type": "code",
   "execution_count": null,
   "id": "f6925308",
   "metadata": {},
   "outputs": [],
   "source": [
    "import pandas as pd\n",
    "from database import Database\n",
    "\n",
    "import matplotlib as mpl\n",
    "mpl.rcParams['figure.dpi'] = 200\n",
    "mpl.rcParams[\"figure.autolayout\"] = True\n",
    "mpl.rcParams[\"figure.figsize\"] = [10.00, 4.00]\n",
    "\n",
    "database = Database()"
   ]
  },
  {
   "cell_type": "markdown",
   "id": "7f4635e6",
   "metadata": {
    "slideshow": {
     "slide_type": "slide"
    }
   },
   "source": [
    "## Wetter Test "
   ]
  },
  {
   "cell_type": "code",
   "execution_count": null,
   "id": "0a801e9e",
   "metadata": {
    "scrolled": false,
    "slideshow": {
     "slide_type": "-"
    }
   },
   "outputs": [],
   "source": [
    "agg_result = database.mongo_data_weather.aggregate([{\n",
    "    \"$group\": {\n",
    "        \"_id\": \"$timestamp\",\n",
    "        \"count\": {\"$sum\": 1}\n",
    "    }\n",
    "}])\n",
    "weather = pd.DataFrame(list(agg_result))\n",
    "#weather\n",
    "plot = weather.plot(x='_id', y='count')"
   ]
  },
  {
   "cell_type": "code",
   "execution_count": null,
   "id": "55464042",
   "metadata": {},
   "outputs": [],
   "source": [
    "agg_result3 = database.mongo_data_weather.aggregate([\n",
    "    {\n",
    "        \"$group\": {\n",
    "            \"_id\": {\n",
    "                \"$dateToString\": {\n",
    "                    \"format\": \"%d.%m.%Y\",\n",
    "                    \"date\": {\"$toDate\": \"$timestamp\"}\n",
    "                }\n",
    "            },\n",
    "            \"count\": {\"$sum\": 1}\n",
    "        }\n",
    "    },\n",
    "    {\"$sort\": {\"_id\": 1}}\n",
    "])\n",
    "weather2 = pd.DataFrame(list(agg_result3))\n",
    "#weather2\n",
    "weather2.plot(x='_id', y='count')"
   ]
  },
  {
   "cell_type": "code",
   "execution_count": null,
   "id": "4e5a5522",
   "metadata": {},
   "outputs": [],
   "source": [
    "weather2"
   ]
  },
  {
   "cell_type": "code",
   "execution_count": null,
   "id": "f5d8102d",
   "metadata": {},
   "outputs": [],
   "source": [
    "result = database.mongo_data_weather.find({})\n",
    "df = pd.DataFrame(list(result))\n",
    "df"
   ]
  },
  {
   "cell_type": "code",
   "execution_count": null,
   "id": "dea4cddd",
   "metadata": {},
   "outputs": [],
   "source": [
    "df.plot(x='timestamp', y='temperature')\n",
    "#weather\n",
    "print(list(result))"
   ]
  },
  {
   "cell_type": "markdown",
   "id": "960a9876",
   "metadata": {},
   "source": [
    "## Züge"
   ]
  },
  {
   "cell_type": "code",
   "execution_count": null,
   "id": "1790042a",
   "metadata": {},
   "outputs": [],
   "source": [
    "database.mongo_data_train.count_documents(filter={})"
   ]
  },
  {
   "cell_type": "code",
   "execution_count": null,
   "id": "1ce23864",
   "metadata": {},
   "outputs": [],
   "source": [
    "for i in database.mongo_data_train.find({\"eva\": 8000244}).limit(5):\n",
    "    print(i)"
   ]
  },
  {
   "cell_type": "code",
   "execution_count": null,
   "id": "5a7871c8",
   "metadata": {},
   "outputs": [],
   "source": [
    "agg_result2 = database.mongo_data_train.aggregate([{\n",
    "    \"$group\": {\n",
    "        \"_id\": \"$timestamp\",\n",
    "        \"count\": {\"$sum\": 1}\n",
    "    }\n",
    "}])\n",
    "#for i in agg_result:\n",
    "#    print(i)\n",
    "train = pd.DataFrame(list(agg_result2))\n",
    "#train\n",
    "train.plot(x='_id', y='count')"
   ]
  },
  {
   "cell_type": "code",
   "execution_count": null,
   "id": "a26dabaa",
   "metadata": {},
   "outputs": [],
   "source": [
    "agg_result4 = database.mongo_data_train.aggregate([\n",
    "    {\n",
    "        \"$group\": {\n",
    "            \"_id\": {\n",
    "                \"$dateToString\": {\n",
    "                    \"format\": \"%d.%m.%Y\",\n",
    "                    \"date\": {\"$toDate\": \"$timestamp\"}\n",
    "                }\n",
    "            },\n",
    "            \"count\": {\"$sum\": 1}\n",
    "        }\n",
    "    },\n",
    "    {\"$sort\": {\"_id\": 1}}\n",
    "])\n",
    "#for i in agg_result:\n",
    "#    print(i)\n",
    "train2 = pd.DataFrame(list(agg_result4))\n",
    "#train2\n",
    "train2.plot(x='_id', y='count')"
   ]
  },
  {
   "cell_type": "code",
   "execution_count": null,
   "id": "03efae9c",
   "metadata": {},
   "outputs": [],
   "source": [
    "train2"
   ]
  },
  {
   "cell_type": "code",
   "execution_count": null,
   "id": "dc307acb",
   "metadata": {},
   "outputs": [],
   "source": [
    "for i in database.mongo_data_train.find(sort=[(\"delay\", -1)]).limit(20):\n",
    "    print(i)"
   ]
  },
  {
   "cell_type": "code",
   "execution_count": null,
   "id": "8b2f34e8",
   "metadata": {},
   "outputs": [],
   "source": [
    "for i in database.mongo_data_train.find(filter={\"con_type\":\"RE\"}, sort=[(\"delay\", -1)]).limit(20):\n",
    "    print(i)"
   ]
  },
  {
   "cell_type": "code",
   "execution_count": null,
   "id": "cc88d1f5",
   "metadata": {},
   "outputs": [],
   "source": [
    "timerange = database.mongo_data_train.find({\n",
    "    \"timestamp\": {\n",
    "        \"$gt\": \"2022-11-05T17:45\",\n",
    "        \"$lt\": \"2022-11-05T18:00\",\n",
    "    }\n",
    "})\n",
    "l = list(timerange)\n",
    "for i in l:\n",
    "    print(i)\n",
    "print(len(l))"
   ]
  },
  {
   "cell_type": "code",
   "execution_count": null,
   "id": "39e2a4d0",
   "metadata": {},
   "outputs": [],
   "source": [
    "database.close()"
   ]
  },
  {
   "cell_type": "code",
   "execution_count": null,
   "id": "f2eb3a5c",
   "metadata": {},
   "outputs": [],
   "source": [
    "# use https://stackoverflow.com/a/33079582/13777031\n",
    "\n",
    "# https://rise.readthedocs.io/en/stable/customize.html\n",
    "\n",
    "# https://ourcodingclub.github.io/tutorials/pandas-time-series/"
   ]
  },
  {
   "cell_type": "code",
   "execution_count": null,
   "id": "84bc695b",
   "metadata": {},
   "outputs": [],
   "source": []
  }
 ],
 "metadata": {
  "celltoolbar": "Slideshow",
  "kernelspec": {
   "display_name": "Python 3 (ipykernel)",
   "language": "python",
   "name": "python3"
  },
  "language_info": {
   "codemirror_mode": {
    "name": "ipython",
    "version": 3
   },
   "file_extension": ".py",
   "mimetype": "text/x-python",
   "name": "python",
   "nbconvert_exporter": "python",
   "pygments_lexer": "ipython3",
   "version": "3.9.13"
  }
 },
 "nbformat": 4,
 "nbformat_minor": 5
}
