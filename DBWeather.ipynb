{
 "cells": [
  {
   "cell_type": "code",
   "execution_count": 6,
   "id": "46ac70d1",
   "metadata": {
    "slideshow": {
     "slide_type": "skip"
    }
   },
   "outputs": [
    {
     "data": {
      "text/html": [
       "<style>\n",
       "h1 { color: rgb(226, 0, 26); font-size: 190% !important;}\n",
       "h2 { color: rgb(0, 80, 120); }\n",
       ".container { width: 70%; font-size: 18px }\n",
       "#notebook-container{ font-size: 18px; }\n",
       ".CodeMirror { font-size: 18px; }\n",
       "table { font-size: 16px !important; }\n",
       "</style>\n"
      ],
      "text/plain": [
       "<IPython.core.display.HTML object>"
      ]
     },
     "metadata": {},
     "output_type": "display_data"
    }
   ],
   "source": [
    "%%html\n",
    "<style>\n",
    "h1 { color: rgb(226, 0, 26); font-size: 190% !important;}\n",
    "h2 { color: rgb(0, 80, 120); }\n",
    ".container { width: 70%; font-size: 18px }\n",
    "#notebook-container{ font-size: 18px; }\n",
    ".CodeMirror { font-size: 18px; }\n",
    "table { font-size: 16px !important; }\n",
    "</style>"
   ]
  },
  {
   "cell_type": "markdown",
   "id": "a4e20046",
   "metadata": {
    "slideshow": {
     "slide_type": "slide"
    }
   },
   "source": [
    "# BigData - DBWeather"
   ]
  },
  {
   "cell_type": "markdown",
   "id": "2a70516e",
   "metadata": {
    "slideshow": {
     "slide_type": "slide"
    }
   },
   "source": [
    "## 0. Inhaltsverzeichnis\n"
   ]
  },
  {
   "cell_type": "code",
   "execution_count": null,
   "id": "531a2951",
   "metadata": {},
   "outputs": [],
   "source": []
  },
  {
   "cell_type": "code",
   "execution_count": 3,
   "id": "f6925308",
   "metadata": {},
   "outputs": [],
   "source": [
    "# Test\n",
    "from database import Database\n",
    "database = Database()"
   ]
  },
  {
   "cell_type": "code",
   "execution_count": 4,
   "id": "28778b75",
   "metadata": {},
   "outputs": [
    {
     "data": {
      "text/plain": [
       "2240"
      ]
     },
     "execution_count": 4,
     "metadata": {},
     "output_type": "execute_result"
    }
   ],
   "source": [
    "database.mongo_data_train.count_documents(filter={})"
   ]
  },
  {
   "cell_type": "code",
   "execution_count": 7,
   "id": "507daf9a",
   "metadata": {},
   "outputs": [
    {
     "data": {
      "text/plain": [
       "<pymongo.cursor.Cursor at 0x14673c324a0>"
      ]
     },
     "execution_count": 7,
     "metadata": {},
     "output_type": "execute_result"
    }
   ],
   "source": [
    "database.mongo_data_train.find({\"eva\": 8000244})"
   ]
  },
  {
   "cell_type": "code",
   "execution_count": 5,
   "id": "83b81170",
   "metadata": {},
   "outputs": [],
   "source": [
    "database.close()"
   ]
  },
  {
   "cell_type": "code",
   "execution_count": null,
   "id": "f2eb3a5c",
   "metadata": {},
   "outputs": [],
   "source": []
  }
 ],
 "metadata": {
  "celltoolbar": "Slideshow",
  "kernelspec": {
   "display_name": "Python 3 (ipykernel)",
   "language": "python",
   "name": "python3"
  },
  "language_info": {
   "codemirror_mode": {
    "name": "ipython",
    "version": 3
   },
   "file_extension": ".py",
   "mimetype": "text/x-python",
   "name": "python",
   "nbconvert_exporter": "python",
   "pygments_lexer": "ipython3",
   "version": "3.10.8"
  }
 },
 "nbformat": 4,
 "nbformat_minor": 5
}
