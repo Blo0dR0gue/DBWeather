{
 "cells": [
  {
   "cell_type": "markdown",
   "id": "cd07827c",
   "metadata": {
    "slideshow": {
     "slide_type": "skip"
    }
   },
   "source": [
    "Etwas Styling ..."
   ]
  },
  {
   "cell_type": "code",
   "execution_count": null,
   "id": "46ac70d1",
   "metadata": {
    "scrolled": true,
    "slideshow": {
     "slide_type": "skip"
    }
   },
   "outputs": [],
   "source": [
    "%%html\n",
    "<style>\n",
    "h1 { color: rgb(226, 0, 26); }\n",
    "h2 { color: rgb(0, 80, 120); }\n",
    ".output_png { display: table-cell;  text-align: center;  vertical-align: middle; }\n",
    "</style>"
   ]
  },
  {
   "cell_type": "markdown",
   "id": "a4e20046",
   "metadata": {
    "slideshow": {
     "slide_type": "slide"
    }
   },
   "source": [
    "# BigData - DBWeather\n",
    "---\n",
    "*Programmentwurf - Wintersemester 2022 - DHBW Mannheim*\\\n",
    "Daniel Czeschner, Kai Grübener, Frederik Wolter"
   ]
  },
  {
   "cell_type": "markdown",
   "id": "2a70516e",
   "metadata": {
    "slideshow": {
     "slide_type": "slide"
    }
   },
   "source": [
    "## 0. Inhalt\n",
    "\n",
    "1. Business Understanding\n",
    "\n",
    "2. Data Understanding\n",
    "\n",
    "3. Data Preperation\n",
    "\n",
    "4. Modeling\n",
    "\n",
    "5. Evaluation\n",
    "\n",
    "6. Deployment\n",
    "\n",
    "*... in Anlehnung an CRISP-DM*"
   ]
  },
  {
   "cell_type": "markdown",
   "id": "b1eab475",
   "metadata": {
    "slideshow": {
     "slide_type": "slide"
    }
   },
   "source": [
    "## 1. Business Understanding\n",
    "\n",
    "* __Perspektive__: Deutsche Bahn\n",
    "\n",
    "* __Vermutung__: \n",
    "\n",
    "<center><i>Klimaanlagen sorgen für Störungen bei extremen Temperaturen, besonders bei ICE's</i></center>\n",
    "\n",
    "* __Ziel__: \n",
    "  * Erhebung & Auswertung von Daten zu Zugverspätungen & -ausfällen\n",
    "  * Grundlegende statistische Darstellung von Fahrplan-Änderungs-Daten \n",
    "  * Erhebung von Wetterdaten für die Analyse potentieller Korrelationen"
   ]
  },
  {
   "cell_type": "markdown",
   "id": "a994d711",
   "metadata": {
    "slideshow": {
     "slide_type": "slide"
    }
   },
   "source": [
    "## 2. Data Understanding\n",
    "\n",
    "Verfügbare Datenquellen:\n",
    "  * Deutsche Bahn _Timetable_ API<br> \n",
    "    `apis.deutschebahn.com/db-api-marketplace/apis/timetables/`\n",
    "  \n",
    "  * Deutsche Bahn _Reiseauskunft_ API<br>\n",
    "    `reiseauskunft.bahn.de/bin/`\n",
    "  \n",
    "  * _BrightSky_ API<br>\n",
    "    `api.brightsky.dev/`"
   ]
  },
  {
   "cell_type": "markdown",
   "id": "6586c244",
   "metadata": {
    "slideshow": {
     "slide_type": "subslide"
    }
   },
   "source": [
    "## 2.1 Data Understanding – DB Timetable\n",
    "\n",
    "* API des Deutschen Bahn API-Marketplace\n",
    "\n",
    "* `/station/{pattern}`\n",
    "```xml\n",
    "<station meta=\"518342\" name=\"Mannheim Hbf\" eva=\"8000244\" p=\"...\" ...=\"\" />\n",
    "```\n",
    "\n",
    "* `/fchg/{evaNo}`: viele schlecht dokumentiert Daten über Fahrplan-Änderungen\n",
    "  * Zugtyp, Zugnummer\n",
    "  * Durchsagen? \n",
    "  * **geänderte** Gleise, Halte, Ankünfte, Abfahrten, Ausfälle\n",
    "    <div class=\"alert alert-danger\">\n",
    "        <b>Achtung:</b> keine Plan-Daten (andere API) -> ungeignet für Verspätungsbestimmung\n",
    "    </div>"
   ]
  },
  {
   "cell_type": "markdown",
   "id": "4a3b4931",
   "metadata": {
    "slideshow": {
     "slide_type": "subslide"
    }
   },
   "source": [
    "## 2.2 Data Understanding – DB Reiseauskunft\n",
    "\n",
    "* API der Deutschen Bahn – _\"not so official\"_\n",
    "\n",
    "* `bhftafel.exe/dn?boardType={arr|dep}&input={evaNo}`\n",
    "  \n",
    "    <pre><code class=\"cm-s-ipython language-json\" style=\"max-height: none;\">    8000244 Mannheim Hbf\n",
    "      17:23\n",
    "      IC  2217\n",
    "      <span class=\"cm-string cm-property\">+ 35</span>\n",
    "      17:24\n",
    "      S      1\n",
    "      <span class=\"cm-string cm-property\">no</span>\n",
    "      17:31\n",
    "      ICE  611\n",
    "      <span class=\"cm-string cm-property\">cancel</span>\n",
    "      17:33\n",
    "      ICE  42\n",
    "      <span class=\"cm-string cm-property\">+ 5</span></code></pre>"
   ]
  },
  {
   "cell_type": "markdown",
   "id": "342fcf10",
   "metadata": {
    "slideshow": {
     "slide_type": "subslide"
    }
   },
   "source": [
    "## 2.3 Data Understanding – BrightSky\n",
    "\n",
    "* API des Deutschen Wetterdienstes\n",
    "\n",
    "* `/weather?lat={Latitude}&lon={Longitude}&date={Date}`\n",
    "\n",
    "    <pre><code class=\"cm-s-ipython language-json\" style=\"max-height: none;\">   <span class=\"cm-string\">\"weather\"</span>: [{ \n",
    "                    <span class=\"cm-string cm-property\">\"timestamp\"</span>: <span class=\"cm-string\">\"2022-11-03T00:00:00+01:00\"</span>,\n",
    "                    <span class=\"cm-string cm-property\">\"source_id\"</span>: <span class=\"cm-number\">184401</span>,\n",
    "                    <span class=\"cm-string cm-property\">\"pressure_msl\"</span>: <span class=\"cm-number\">1021.7</span>,\n",
    "                    <span class=\"cm-string cm-property\">\"sunshine\"</span>: <span class=\"cm-number\">0.0</span>,\n",
    "                    <span class=\"cm-string cm-property\">\"temperature\"</span>: <span class=\"cm-number\">6.8</span>,     \n",
    "                    <span class=\"cm-string cm-property\">\"condition\"</span>: <span class=\"cm-string\">\"dry\"</span>,\n",
    "                    <span class=\"cm-string cm-property\">\"wind_speed\"</span>: <span class=\"cm-number\">4.3</span>,\n",
    "                    <span class=\"cm-string cm-property\">\"cloud_cover\"</span>: <span class=\"cm-number\">100</span>,     \n",
    "                    <span class=\"cm-string cm-property\">\"relative_humidity\"</span>: <span class=\"cm-number\">96</span>, <span class=\"cm-meta\">...</span>\n",
    "                  }, <span class=\"cm-meta\">...</span> ],</code></pre>\n",
    "    ```json\n",
    "    \"sources\": [ ... ]\n",
    "    ```"
   ]
  },
  {
   "cell_type": "markdown",
   "id": "1edca9be",
   "metadata": {
    "slideshow": {
     "slide_type": "slide"
    }
   },
   "source": [
    "## 3. Data Preparation\n",
    "\n",
    "__Abspeichern der Daten__\n",
    "\n",
    "<center><i>Welche Daten, wie, in welchem Format speichern?</i></center>"
   ]
  },
  {
   "cell_type": "markdown",
   "id": "a76cb1ba",
   "metadata": {
    "slideshow": {
     "slide_type": "subslide"
    }
   },
   "source": [
    "## 3.1 Data Preparation – Deutsche Bahn\n",
    "\n",
    "* Speichern als **einzelne** Ankunft/Abfahrt\n",
    "\n",
    "* Hinzufügen von `eva` und `board_type`\n",
    "\n",
    "* Parsen der Informationen zu `JSON`:\n",
    "\n",
    "    ```json\n",
    "    {\n",
    "        \"timestamp\": \"2022-11-03T17:48:00+01:00\",\n",
    "        \"eva\": 8000105,\n",
    "        \"board_type\": \"arr\",\n",
    "        \"con_line\": \"725\",\n",
    "        \"con_type\": \"ICE\",\n",
    "        \"delay\": 26\n",
    "    }\n",
    "    ```\n",
    "    \n",
    "<div class=\"alert alert-block alert-info\">\n",
    "    <b>Info:</b> <code>delay</code> \"cancel\" wird als <code>-1</code> dargestellt\n",
    "</div>\n",
    "    "
   ]
  },
  {
   "cell_type": "markdown",
   "id": "33e35df2",
   "metadata": {
    "slideshow": {
     "slide_type": "subslide"
    }
   },
   "source": [
    "## 3.2 Data Preparation – BrightSky\n",
    "\n",
    "* Speichern als **stündliche** Datensätze\n",
    "\n",
    "* Hinzufügen von `lon` und `lat`\n",
    "    <pre><code class=\"cm-s-ipython language-json\" style=\"max-height: none;\">    { \n",
    "        <span class=\"cm-string cm-property\">\"timestamp\"</span>: <span class=\"cm-string\">\"2022-11-25T14:00:00+01:00\"</span>,\n",
    "        <span class=\"cm-string cm-property\">\"lat\"</span>: <span class=\"cm-number\">50.05</span>,        \n",
    "        <span class=\"cm-string cm-property\">\"lon\"</span>: <span class=\"cm-number\">8.6</span>,\n",
    "        <span class=\"cm-string cm-property\">\"cloud_cover\"</span>: <span class=\"cm-number\">88</span>,   \n",
    "        <span class=\"cm-string cm-property\">\"condition\"</span>: <span class=\"cm-string\">\"dry\"</span>,\n",
    "        <span class=\"cm-string cm-property\">\"pressure_msl\"</span>: <span class=\"cm-number\">1018.8</span>,\n",
    "        <span class=\"cm-string cm-property\">\"relative_humidity\"</span>: <span class=\"cm-number\">83</span>,\n",
    "        <span class=\"cm-string cm-property\">\"sunshine\"</span>: <span class=\"cm-number\">32</span>,\n",
    "        <span class=\"cm-string cm-property\">\"temperature\"</span>: <span class=\"cm-number\">9.2</span>,\n",
    "        <span class=\"cm-string cm-property\">\"wind_speed\"</span>: <span class=\"cm-number\">10.1</span>, \n",
    "        <span class=\"cm-meta\">...</span> \n",
    "      }</code></pre>"
   ]
  },
  {
   "cell_type": "markdown",
   "id": "7cdd5d08",
   "metadata": {
    "slideshow": {
     "slide_type": "slide"
    }
   },
   "source": [
    "## 4. Modeling\n",
    "\n",
    "Die Pipeline ist wie folgt aufgebaut:\n",
    "<br>\n",
    "<br>\n",
    "<center><img src=\"img/DataPipeline.png\" /></center>"
   ]
  },
  {
   "cell_type": "markdown",
   "id": "8da737fd",
   "metadata": {
    "slideshow": {
     "slide_type": "subslide"
    }
   },
   "source": [
    "## 4.1 Modeling – Python\n",
    "**Vereinfachtes Laden der Wetterdaten:**\n",
    "<pre><code class=\"cm-s-ipython language-python\" style=\"max-height: none;\"><span class=\"cm-keyword\">def</span> <span class=\"cm-def\">_load_api_data</span>(<span class=\"cm-variable\">lat</span>: <span class=\"cm-builtin\">float</span>, <span class=\"cm-variable\">lon</span>: <span class=\"cm-builtin\">float</span>, <span class=\"cm-variable\">current_time</span>: <span class=\"cm-variable\">datetime</span>) <span class=\"cm-operator\">-</span><span class=\"cm-operator\">&gt;</span> <span class=\"cm-keyword\">None</span>:\n",
    "    <span class=\"cm-variable\">url</span> <span class=\"cm-operator\">=</span> <span class=\"cm-string\">\"https://api.brightsky.dev/weather\"</span>\n",
    "    <span class=\"cm-variable\">params</span> <span class=\"cm-operator\">=</span> { <span class=\"cm-string\">\"date\"</span>: <span class=\"cm-variable\">current_time</span>, <span class=\"cm-string\">\"lon\"</span>: <span class=\"cm-variable\">lon</span>, <span class=\"cm-string\">\"lat\"</span>: <span class=\"cm-variable\">lat</span>, <span class=\"cm-string\">\"tz\"</span>: <span class=\"cm-string\">\"Europe/Berlin\"</span> }\n",
    "    <span class=\"cm-variable\">r</span> <span class=\"cm-operator\">=</span> <span class=\"cm-variable\">requests</span>.<span class=\"cm-property\">get</span>(<span class=\"cm-variable\">url</span><span class=\"cm-operator\">=</span><span class=\"cm-variable\">url</span>, <span class=\"cm-variable\">params</span><span class=\"cm-operator\">=</span><span class=\"cm-variable\">params</span>)\n",
    "\n",
    "    <span class=\"cm-variable\">answer</span> <span class=\"cm-operator\">=</span> <span class=\"cm-variable\">r</span>.<span class=\"cm-property\">json</span>()\n",
    "    <span class=\"cm-variable\">weather</span> <span class=\"cm-operator\">=</span> <span class=\"cm-variable\">answer</span>[<span class=\"cm-string\">'weather'</span>]\n",
    "\n",
    "    <span class=\"cm-keyword\">for</span> <span class=\"cm-variable\">dataset</span> <span class=\"cm-keyword\">in</span> <span class=\"cm-variable\">weather</span>:\n",
    "        <span class=\"cm-variable\">dataset</span>[<span class=\"cm-string\">\"lat\"</span>] <span class=\"cm-operator\">=</span> <span class=\"cm-variable\">lat</span>\n",
    "        <span class=\"cm-variable\">dataset</span>[<span class=\"cm-string\">\"lon\"</span>] <span class=\"cm-operator\">=</span> <span class=\"cm-variable\">lon</span>\n",
    "        <span class=\"cm-variable\">_save_to_db</span>(<span class=\"cm-variable\">db</span><span class=\"cm-operator\">=</span><span class=\"cm-variable\">database</span>, <span class=\"cm-variable\">dataset</span><span class=\"cm-operator\">=</span><span class=\"cm-variable\">dataset</span>)</code></pre>"
   ]
  },
  {
   "cell_type": "markdown",
   "id": "55b4948e",
   "metadata": {
    "slideshow": {
     "slide_type": "subslide"
    }
   },
   "source": [
    "## 4.1 Modeling – Python\n",
    "**Speichern der Daten in MongoDB:**\n",
    "* Wrapper-Skript für benötigten DB-Funktionalitäten\n",
    "  * Verbindungsaufbau zur MongoDB & Collections\n",
    "  * Verbindung zur MongoDB trennen\n",
    "  * `upsert` Funktion:\n",
    "  \n",
    "    ```python\n",
    "    def _save_to_db(db: Database, dataset: dict) -> None:\n",
    "        keys = {\n",
    "            \"timestamp\": dataset[\"timestamp\"],\n",
    "            \"lat\": dataset[\"lat\"],\n",
    "            \"lon\": dataset[\"lon\"]\n",
    "        }\n",
    "        database.upsert(collection=db.data_weather, query=keys, update=dataset)\n",
    "    ```"
   ]
  },
  {
   "cell_type": "markdown",
   "id": "124b3be8",
   "metadata": {
    "slideshow": {
     "slide_type": "subslide"
    }
   },
   "source": [
    "## 4.2 Modeling – Datenbank\n",
    "* Als Datenbank wurde ein MongoDB-Server unter Debian eingerichtet.\n",
    "* _Datenbank_ für dieses Projekt: `DBWeather`\n",
    " * _Collections:_ `data_train`, `data_weather`"
   ]
  },
  {
   "cell_type": "markdown",
   "id": "850c640d",
   "metadata": {
    "slideshow": {
     "slide_type": "subslide"
    }
   },
   "source": [
    "## 4.2 Modeling – Datenbank\n",
    "# Mit auf vor folie\n",
    "* Die MongoDB wurde so konfiguriert, dass eine Authentifizierung der Clients notwendig ist.\n",
    " * Dadurch wird die Datenbank vor fremder Einsicht geschützt und konnte somit global verfügbar gemacht werden.\n",
    " * Zudem wurde ein Web-Dashboard aufgesetzt, worüber die gepspeicherten Daten einfach eingesehen werden können:\n",
    " \n",
    "<center><img src=\"img/MongoDBDashboard.png\" width=\"927\" height=\"246\"/></center>"
   ]
  },
  {
   "cell_type": "markdown",
   "id": "2fb92ae0",
   "metadata": {
    "slideshow": {
     "slide_type": "subslide"
    }
   },
   "source": [
    "## 4.3 Modeling – Ausfürhung\n",
    "\n",
    "* **Python-Skripte** werden durch Debian-Server via `cronjob` ausgeführt\n",
    "  * zur __halben__ und __vollen Stunde__\n",
    "  \n",
    "* Bei Ausführung wird eine **Log-Datei** auf Server erstellt:\n",
    "\n",
    "    <pre style=\"font-size: 0.8em !important;\"><code style=\"max-height: none;\">  2022-11-03 19:00:01,408 INFO  weather: Start main_weather execution ...\n",
    "    2022-11-03 19:00:01,708 INFO  weather: Result lat=50.05 lon=8.6 has 25 elements\n",
    "    2022-11-03 19:00:01,824 INFO  weather: Result lat=49.5 lon=8.48 has 25 elements\n",
    "    2022-11-03 19:00:01,844 INFO  weather: finished: 0 inserted, 2 updated, 48 unchanged\n",
    "    2022-11-03 19:00:01,844 INFO  weather: ###########################################\n",
    "    2022-11-03 19:00:01,915 INFO  train: Start main_train execution ...\n",
    "    2022-11-03 19:00:01,917 INFO  train: Result eva=8000105 type=arr has 690 lines\n",
    "    2022-11-03 19:00:02,493 INFO  train: Result eva=8000105 type=dep has 672 lines\n",
    "    2022-11-03 19:00:02,938 INFO  train: Result eva=8000244 type=arr has 291 lines\n",
    "    2022-11-03 19:00:03,233 INFO  train: Result eva=8000244 type=dep has 264 lines\n",
    "    2022-11-03 19:00:03,301 INFO  train: finished: 295 inserted, 119 updated, 225 unchanged\n",
    "    2022-11-03 19:00:03,301 INFO  train: ###########################################</code></pre>"
   ]
  },
  {
   "cell_type": "markdown",
   "id": "0e45fc58",
   "metadata": {
    "slideshow": {
     "slide_type": "subslide"
    }
   },
   "source": [
    "## 4.4 Modeling – Auswertung\n",
    "\n",
    "* __Visualisieren der Daten__: dieses `Jupyter Notebook`\n",
    "* __Präsentation__: Extension [`Rise`](https://rise.readthedocs.io/en/stable/)"
   ]
  },
  {
   "cell_type": "markdown",
   "id": "6ebdde77",
   "metadata": {
    "slideshow": {
     "slide_type": "slide"
    }
   },
   "source": [
    "## 5. Evaluation\n",
    "Benötigte Packages:"
   ]
  },
  {
   "cell_type": "code",
   "execution_count": null,
   "id": "f6925308",
   "metadata": {
    "slideshow": {
     "slide_type": "-"
    }
   },
   "outputs": [],
   "source": [
    "from pandas import DataFrame\n",
    "from database import Database"
   ]
  },
  {
   "cell_type": "markdown",
   "id": "5cf4cb4b",
   "metadata": {
    "slideshow": {
     "slide_type": "-"
    }
   },
   "source": [
    "Verbindung zur mongoDB durch eignes Package `Database`:"
   ]
  },
  {
   "cell_type": "code",
   "execution_count": null,
   "id": "9f89ef2f",
   "metadata": {
    "slideshow": {
     "slide_type": "-"
    }
   },
   "outputs": [],
   "source": [
    "database = Database()\n",
    "data_train = database.mongo_data_train\n",
    "data_weather = database.mongo_data_weather"
   ]
  },
  {
   "cell_type": "code",
   "execution_count": null,
   "id": "1fab0dcf",
   "metadata": {
    "slideshow": {
     "slide_type": "skip"
    }
   },
   "outputs": [],
   "source": [
    "# plot config\n",
    "import matplotlib as mpl\n",
    "mpl.rcParams[\"figure.dpi\"] = 200\n",
    "mpl.rcParams[\"figure.figsize\"] = [10.00, 4.00]"
   ]
  },
  {
   "cell_type": "markdown",
   "id": "40e7b836",
   "metadata": {
    "slideshow": {
     "slide_type": "subslide"
    }
   },
   "source": [
    "## 5.1 Evaluation – Wetter Einführung"
   ]
  },
  {
   "cell_type": "code",
   "execution_count": null,
   "id": "5c56124d",
   "metadata": {
    "slideshow": {
     "slide_type": "-"
    }
   },
   "outputs": [],
   "source": [
    "print(f\"{data_weather.count_documents({}):,}\")"
   ]
  },
  {
   "cell_type": "code",
   "execution_count": null,
   "id": "55464042",
   "metadata": {
    "scrolled": false,
    "slideshow": {
     "slide_type": "fragment"
    }
   },
   "outputs": [],
   "source": [
    "result = data_weather.aggregate([\n",
    "    {\"$group\":  { \"_id\": { \"$dateToString\": { \"format\": \"%d.%m.%Y\", \"date\": {\"$toDate\": \"$timestamp\"} } }, \"count\": {\"$sum\": 1} } },\n",
    "    {\"$sort\": { \"_id\": 1 } } ])\n",
    "plot = DataFrame(result).plot(x=\"_id\", y=\"count\", kind=\"line\", xlabel=\"\", style='.-')"
   ]
  },
  {
   "cell_type": "markdown",
   "id": "ab3a4372",
   "metadata": {
    "slideshow": {
     "slide_type": "subslide"
    }
   },
   "source": [
    "## 5.2 Evaluation – Wetter\n",
    "\n",
    "Wetter in Mannheim:"
   ]
  },
  {
   "cell_type": "code",
   "execution_count": null,
   "id": "318c546e",
   "metadata": {
    "slideshow": {
     "slide_type": "-"
    }
   },
   "outputs": [],
   "source": [
    "result = data_weather.find({ \"lat\": 49.5, \"lon\": 8.48 })\n",
    "plot = DataFrame(result).plot(x=\"timestamp\", y=\"temperature\", kind=\"line\", xlabel=\"\", style='.-')"
   ]
  },
  {
   "cell_type": "markdown",
   "id": "f5256ca2",
   "metadata": {
    "slideshow": {
     "slide_type": "subslide"
    }
   },
   "source": [
    "# TODO"
   ]
  },
  {
   "cell_type": "code",
   "execution_count": null,
   "id": "66489bcd",
   "metadata": {
    "slideshow": {
     "slide_type": "-"
    }
   },
   "outputs": [],
   "source": [
    "# beide in einem graphen? aber wie? \n",
    "result = data_weather.aggregate([\n",
    "    {\"$group\":  { \"_id\": { \"$dateToString\": { \"format\": \"%H:%M %d.%m.%Y\", \"date\": {\"$toDate\": \"$timestamp\"} } }, \"count\": {\"$sum\": 1} } },\n",
    "    {\"$sort\": { \"_id\": 1 } } ])\n",
    "plot = DataFrame(result).plot(x=\"_id\", y=\"count\", kind=\"line\", xlabel=\"\", style='.-')"
   ]
  },
  {
   "cell_type": "markdown",
   "id": "68ce535f",
   "metadata": {
    "slideshow": {
     "slide_type": "subslide"
    }
   },
   "source": [
    "## 5.3 Evaluation – Züge Einführung"
   ]
  },
  {
   "cell_type": "code",
   "execution_count": null,
   "id": "1790042a",
   "metadata": {
    "slideshow": {
     "slide_type": "-"
    }
   },
   "outputs": [],
   "source": [
    "print(f\"{data_train.count_documents(filter={}):,}\")"
   ]
  },
  {
   "cell_type": "code",
   "execution_count": null,
   "id": "a26dabaa",
   "metadata": {
    "slideshow": {
     "slide_type": "fragment"
    }
   },
   "outputs": [],
   "source": [
    "result = data_train.aggregate([\n",
    "    {\"$group\": { \"_id\": { \"$dateToString\": { \"format\": \"%d.%m.%Y\", \"date\": {\"$toDate\": \"$timestamp\"} } }, \"count\": {\"$sum\": 1} } },\n",
    "    {\"$sort\": { \"_id\": 1 } } ])\n",
    "plot = DataFrame(result).plot(x=\"_id\", y=\"count\", kind=\"line\", xlabel=\"\", style='.-')"
   ]
  },
  {
   "cell_type": "markdown",
   "id": "97ff07f2",
   "metadata": {
    "slideshow": {
     "slide_type": "subslide"
    }
   },
   "source": [
    "## 5.4 Evaluation – Zug-Arten"
   ]
  },
  {
   "cell_type": "code",
   "execution_count": null,
   "id": "4e2c03de",
   "metadata": {
    "slideshow": {
     "slide_type": "-"
    }
   },
   "outputs": [],
   "source": [
    "result = data_train.aggregate([\n",
    "    {\"$group\": { \"_id\": \"$con_type\", \"count\": {\"$sum\": 1} } },\n",
    "    {\"$sort\": { \"count\": -1 } },\n",
    "    {\"$limit\": 11 } ])\n",
    "df = DataFrame(result)\n",
    "plot = df.plot(x=\"_id\", y=\"count\", kind=\"pie\", labels=df['_id'], legend=False, figsize=(4.5,4.5), autopct='%1.1f%%', ylabel=\"\")"
   ]
  },
  {
   "cell_type": "markdown",
   "id": "2fed98da",
   "metadata": {
    "slideshow": {
     "slide_type": "subslide"
    }
   },
   "source": [
    "## 5.5 Evaluation – Delay"
   ]
  },
  {
   "cell_type": "code",
   "execution_count": null,
   "id": "499de609",
   "metadata": {
    "slideshow": {
     "slide_type": "-"
    }
   },
   "outputs": [],
   "source": [
    "result = data_train.aggregate([\n",
    "    {\"$group\": { \"_id\": \"$delay\", \"count\": {\"$sum\": 1} } },\n",
    "    {\"$sort\": { \"count\": 1 } } ])\n",
    "plot = DataFrame(result).plot(x=\"_id\", y=\"count\", kind=\"line\", xlabel=\"\", style='.', logy=True)"
   ]
  },
  {
   "cell_type": "markdown",
   "id": "22bba642",
   "metadata": {
    "slideshow": {
     "slide_type": "subslide"
    }
   },
   "source": [
    "## 5.6 Evaluation – Delay"
   ]
  },
  {
   "cell_type": "code",
   "execution_count": null,
   "id": "522a8e9c",
   "metadata": {
    "slideshow": {
     "slide_type": "-"
    }
   },
   "outputs": [],
   "source": [
    "result = data_train.aggregate([\n",
    "  {\"$addFields\": { \"range\": { \"$switch\": { \"branches\": [ { \"case\": { \"$eq\": [ \"$delay\", -1 ] }, \"then\": \"nie\" }, { \"case\": { \"$eq\": [ \"$delay\",  0 ] }, \"then\": \"pünkltich\"  }, { \"case\": { \"$lte\": [ \"$delay\", 5 ] }, \"then\": \"<6\" }],  \"default\": \">6\" } } } },\n",
    "  {\"$group\": { \"_id\": \"$range\", \"count\": { \"$sum\": 1 } } } ])\n",
    "df = DataFrame(result)\n",
    "plot = df.plot(x=\"_id\", y=\"count\", kind=\"pie\", ylabel=\"\", labels=df['_id'], legend=False, figsize=(4.5,4.5), autopct='%1.1f%%')"
   ]
  },
  {
   "cell_type": "markdown",
   "id": "626233d0",
   "metadata": {
    "slideshow": {
     "slide_type": "subslide"
    }
   },
   "source": [
    "## 5.6 Evaluation – Delay ICE"
   ]
  },
  {
   "cell_type": "code",
   "execution_count": null,
   "id": "536ad67b",
   "metadata": {
    "slideshow": {
     "slide_type": "-"
    }
   },
   "outputs": [],
   "source": [
    "result = data_train.aggregate([\n",
    "  {\"$match\": {\"con_type\": \"ICE\"} },\n",
    "  {\"$addFields\": { \"range\": { \"$switch\": { \"branches\": [ { \"case\": { \"$eq\": [ \"$delay\", -1 ] }, \"then\": \"nie\" }, { \"case\": { \"$eq\": [ \"$delay\",  0 ] }, \"then\": \"pünktlich\"  }, { \"case\": { \"$lte\": [ \"$delay\", 5 ] }, \"then\": \"<6\" }],  \"default\": \">6\" } } } },\n",
    "  {\"$group\": { \"_id\": \"$range\", \"count\": { \"$sum\": 1 } } } ])\n",
    "df = DataFrame(result)\n",
    "plot = df.plot(x=\"_id\", y=\"count\", kind=\"pie\", ylabel=\"\", labels=df['_id'], legend=False, figsize=(4.5,4.5), autopct='%1.1f%%')"
   ]
  },
  {
   "cell_type": "markdown",
   "id": "7753d5c8",
   "metadata": {
    "slideshow": {
     "slide_type": "subslide"
    }
   },
   "source": [
    "## 5.7 Evaluation – Walk of Shame"
   ]
  },
  {
   "cell_type": "code",
   "execution_count": null,
   "id": "712c2d55",
   "metadata": {
    "slideshow": {
     "slide_type": "-"
    }
   },
   "outputs": [],
   "source": [
    "DataFrame(data_train.find(sort=[(\"delay\", -1)], filter={\"board_type\": \"arr\"}).limit(3))"
   ]
  },
  {
   "cell_type": "markdown",
   "id": "dccfaa92",
   "metadata": {
    "slideshow": {
     "slide_type": "fragment"
    }
   },
   "source": [
    "... ohne Straßenbahnen ..."
   ]
  },
  {
   "cell_type": "code",
   "execution_count": null,
   "id": "6b447ee6",
   "metadata": {
    "slideshow": {
     "slide_type": "-"
    }
   },
   "outputs": [],
   "source": [
    "DataFrame(data_train.find(sort=[(\"delay\", -1)], filter={\"board_type\": \"arr\",\"con_type\": {\"$ne\": \"STR\"}}).limit(3))"
   ]
  },
  {
   "cell_type": "markdown",
   "id": "42bed849",
   "metadata": {
    "slideshow": {
     "slide_type": "subslide"
    }
   },
   "source": [
    "## 5.8 Evaluation – Züge + Temperatur\n",
    "\n",
    "# TBD\n",
    "\n",
    "* Wetter kombis\n",
    "    * temp <> verspätung (Zugart)\n",
    "    * evtl. mehr"
   ]
  },
  {
   "cell_type": "markdown",
   "id": "4f6b834d",
   "metadata": {
    "slideshow": {
     "slide_type": "slide"
    }
   },
   "source": [
    "## 6. Deployment  – Fazit\n",
    "\n",
    "* **Eingangsfrage**: \n",
    "  * noch nicht genug Daten für zuverlässige Aussage\n",
    "* **Sonstige Probleme/Herausforderungen**: \n",
    "  * Server ist im Betrieb eingefroren aus unbekannter Ursache\n",
    "  * erst zwei Tage Später festgestellt, da Monitoring-Software nicht ausgelöst"
   ]
  },
  {
   "cell_type": "markdown",
   "id": "45623938",
   "metadata": {
    "slideshow": {
     "slide_type": "fragment"
    }
   },
   "source": [
    "Datenbank trennen:"
   ]
  },
  {
   "cell_type": "code",
   "execution_count": null,
   "id": "39e2a4d0",
   "metadata": {
    "slideshow": {
     "slide_type": "-"
    }
   },
   "outputs": [],
   "source": [
    "database.close()"
   ]
  },
  {
   "cell_type": "markdown",
   "id": "7d7c9897",
   "metadata": {
    "slideshow": {
     "slide_type": "slide"
    }
   },
   "source": [
    "# Temp Test ==================================="
   ]
  },
  {
   "cell_type": "code",
   "execution_count": null,
   "id": "f2eb3a5c",
   "metadata": {
    "slideshow": {
     "slide_type": "-"
    }
   },
   "outputs": [],
   "source": [
    "https://stackoverflow.com/a/33079582/13777031\n",
    "https://rise.readthedocs.io/en/stable/customize.html\n",
    "https://ourcodingclub.github.io/tutorials/pandas-time-series/"
   ]
  }
 ],
 "metadata": {
  "celltoolbar": "Slideshow",
  "kernelspec": {
   "display_name": "Python 3 (ipykernel)",
   "language": "python",
   "name": "python3"
  },
  "language_info": {
   "codemirror_mode": {
    "name": "ipython",
    "version": 3
   },
   "file_extension": ".py",
   "mimetype": "text/x-python",
   "name": "python",
   "nbconvert_exporter": "python",
   "pygments_lexer": "ipython3",
   "version": "3.9.13"
  }
 },
 "nbformat": 4,
 "nbformat_minor": 5
}
